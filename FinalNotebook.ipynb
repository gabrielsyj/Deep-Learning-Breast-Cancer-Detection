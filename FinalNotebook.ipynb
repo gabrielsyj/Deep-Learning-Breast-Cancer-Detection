{
  "nbformat": 4,
  "nbformat_minor": 0,
  "metadata": {
    "colab": {
      "provenance": [],
      "authorship_tag": "ABX9TyPja4Ks3d6h+HvyzSNRFGrd",
      "include_colab_link": true
    },
    "kernelspec": {
      "name": "python3",
      "display_name": "Python 3"
    },
    "language_info": {
      "name": "python"
    }
  },
  "cells": [
    {
      "cell_type": "markdown",
      "metadata": {
        "id": "view-in-github",
        "colab_type": "text"
      },
      "source": [
        "<a href=\"https://colab.research.google.com/github/gabrielsyj/Deep-Learning-Breast-Cancer-Detection/blob/main/FinalNotebook.ipynb\" target=\"_parent\"><img src=\"https://colab.research.google.com/assets/colab-badge.svg\" alt=\"Open In Colab\"/></a>"
      ]
    },
    {
      "cell_type": "markdown",
      "source": [
        "# **CM3070 Final Project**"
      ],
      "metadata": {
        "id": "9nlXqUb-w4RC"
      }
    },
    {
      "cell_type": "markdown",
      "source": [
        "## **Final Report**"
      ],
      "metadata": {
        "id": "7jS6cwJyxos6"
      }
    },
    {
      "cell_type": "markdown",
      "source": [
        "## by Soh Yi Jie Gabriel (220516695)"
      ],
      "metadata": {
        "id": "QYDzdhPyx3IO"
      }
    },
    {
      "cell_type": "markdown",
      "source": [
        "## **3.2 Project Idea 2: Deep Learning Breast Cancer Detection**"
      ],
      "metadata": {
        "id": "Tzfdxr8Ux3zH"
      }
    },
    {
      "cell_type": "markdown",
      "source": [
        "## **Introduction**"
      ],
      "metadata": {
        "id": "rqjT1toeyCDh"
      }
    },
    {
      "cell_type": "markdown",
      "source": [
        "Breast cancer remains one of the most prevalent and life-threatening diseases worldwide, and early, accurate diagnosis through mammographic screening is critical for patient outcomes. However, current practice faces challenges such as radiologist fatigue, inter-observer variability, and limited availability of expert readers, which can reduce screening reliability. Artificial intelligence (AI) offers the potential to complement human expertise by providing reproducible, efficient, and accurate diagnostic support.\n",
        "\n",
        "In accordance with Template 3.2: Deep Learning Breast Cancer Detection, this project explores the application of deep learning for automated breast cancer detection in mammography.  The complete system was created using Google Colab's open-source tools to guarantee accessibility and reproducibility.  Preprocessing procedures (grayscale normalization, binary label remapping, augmentation, and class balancing) are included in the pipeline, along with a series of models: a baseline CNN, MobileNet, and EfficientNet with transfer learning.  Because of their capacity to provide excellent diagnostic results at a low computational cost, these lightweight designs were selected for use in resource-constrained clinical settings.\n",
        "\n",
        "The CBIS-DDSM dataset was used for testing and training in the evaluation process, while the INbreast dataset was used for additional validation to determine generalizability across populations.  Using common measures like accuracy, sensitivity, specificity, and ROC-AUC, performance was compared to radiologist accuracy (87–90%). The results were displayed in easy-to-read tables and visual aids including training loss plots, ROC curves, and confusion matrices.  The project incorporated explainability tools, Grad-CAM for spatial heatmaps and SHAP for feature-level explanations, to address transparency and trust. This allowed for a critical examination of the model's emphasis and reasoning.\n",
        "\n",
        "The findings demonstrate that therapeutically relevant performance can be attained by lightweight CNN architectures while maintaining efficiency and reproducibility.  By utilising open-source implementation, interpretable AI techniques, and publicly accessible datasets, the initiative prioritises inclusivity and transparency over numerical accuracy.  When taken as a whole, these contributions show a viable path toward AI-assisted breast cancer screening that strikes a compromise between precision, effectiveness, and equity in practical healthcare implementation."
      ],
      "metadata": {
        "id": "CjIE1XRkyEAC"
      }
    },
    {
      "cell_type": "markdown",
      "source": [],
      "metadata": {
        "id": "Q4BEvRc8yq2A"
      }
    }
  ]
}